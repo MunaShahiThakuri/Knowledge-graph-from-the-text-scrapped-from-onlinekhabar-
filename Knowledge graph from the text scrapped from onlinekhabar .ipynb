{
 "cells": [
  {
   "cell_type": "markdown",
   "metadata": {},
   "source": [
    "## For webdriver"
   ]
  },
  {
   "cell_type": "code",
   "execution_count": 21,
   "metadata": {},
   "outputs": [],
   "source": [
    "from selenium import webdriver\n",
    "from webdriver_manager.chrome import ChromeDriverManager\n",
    "from selenium.webdriver.chrome.service import Service\n",
    "from selenium.webdriver.common.keys import Keys\n",
    "from selenium.webdriver.common.by import By"
   ]
  },
  {
   "cell_type": "code",
   "execution_count": 22,
   "metadata": {},
   "outputs": [
    {
     "name": "stderr",
     "output_type": "stream",
     "text": [
      "<ipython-input-22-c026f0c15647>:1: DeprecationWarning: executable_path has been deprecated, please pass in a Service object\n",
      "  driver = webdriver.Chrome(ChromeDriverManager().install())\n"
     ]
    }
   ],
   "source": [
    "driver = webdriver.Chrome(ChromeDriverManager().install())"
   ]
  },
  {
   "cell_type": "markdown",
   "metadata": {},
   "source": [
    "## Use of requests library"
   ]
  },
  {
   "cell_type": "code",
   "execution_count": 23,
   "metadata": {},
   "outputs": [],
   "source": [
    "import requests"
   ]
  },
  {
   "cell_type": "code",
   "execution_count": 24,
   "metadata": {},
   "outputs": [],
   "source": [
    "page_url = \"https://english.onlinekhabar.com/how-fair-is-rise-of-nationalism-nepal.html\"\n",
    "response = requests.get(page_url)"
   ]
  },
  {
   "cell_type": "markdown",
   "metadata": {},
   "source": [
    "## Use of beautifulSoup library"
   ]
  },
  {
   "cell_type": "code",
   "execution_count": 25,
   "metadata": {},
   "outputs": [],
   "source": [
    "from bs4 import BeautifulSoup"
   ]
  },
  {
   "cell_type": "code",
   "execution_count": 26,
   "metadata": {},
   "outputs": [],
   "source": [
    "soup = BeautifulSoup(response.content, 'html.parser')\n",
    "div = soup.find('div', class_='post-content-wrap')\n",
    "p_tags = div.find_all('p')"
   ]
  },
  {
   "cell_type": "code",
   "execution_count": 27,
   "metadata": {},
   "outputs": [],
   "source": [
    "sentences = []\n",
    "for p in p_tags:\n",
    "    sentence = p.get_text()\n",
    "    sentences.append(sentence)"
   ]
  },
  {
   "cell_type": "code",
   "execution_count": 28,
   "metadata": {
    "scrolled": true
   },
   "outputs": [
    {
     "name": "stdout",
     "output_type": "stream",
     "text": [
      "The whole Adipurush fiasco created a lot of noise but failed to accommodate two key issues that will continue posing problems if they are not addressed. The first issue is with regard to the scope of accountability and the second is about the nature of modern-day nationalism.\n",
      "The imposition of the ban on Indian films evoked memories of a previous incident in 2012 when the CPN-M, led by Mohan Baidya, took a similar step to counter India’s perceived negative influence in Nepal. However, it is worth noting that the ban by Baidya was not restricted solely to films but encompassed a broader scope of restrictions.\n",
      "The controversy comes not long after the revelation of the Akhand Bharat mural inside India’s new parliament, which was in turn followed by Kathmandu’s mayor putting up the ‘Greater Nepal’ map in his office as a response.\n",
      "Quite understandably, the current chain of events has led to a loud and uniform nationalist voice against India. But while the provocations have originated from the same geography, it is important to distinguish between the originations of these provocations, of which one emerged from the state and the other from the private sector.\n",
      "The Ministry of external affairs maintains that the Akhanda Bharat mural is only symbolic in nature and portrays the spread of the historical Mauryan Empire, which it looks up to with pride and reverence.\n",
      "In that case, the map would then theoretically include parts of, not just present-day Nepal but also Bangladesh, Pakistan, Afghanistan, Myanmar, Maldives and Sri Lanka.\n",
      "Even though the mural might very well have nothing to do with current reality, the placing of the mural which is in the parliament of all places raises alarms for all neighbouring countries and more so for Nepal given that the Limpiyadhura and Lipulekh dispute happened not too long ago and still goes unresolved.\n",
      "In any case, the origination of this provocation happened by the government that represents India, so it is understandable that the resulting frustration is directed at India in general.\n",
      "The case with Adipurush however was different because the provocation happened from the private sector. Unlike the government, which broadly represents the state and its people, one movie or one production house does not represent the entire Indian film industry.\n",
      "For instance, would it be fair if a movie like Uunchai, which was filmed in Nepal and portrayed its beauty to the point of serving as a powerful marketing campaign, be banned had it been slated for a July release? When a transgression is committed should it not just be the transgressor who is prosecuted?\n",
      "Expanding the scope of punishment to others who have no role in the transgression and are merely guilty by some nominal form of association suggests stereotypical generalisation, which should be absent when it comes to administering punishments.\n",
      "If one Nepali export company sells subpar products to India and India bans all imports from Nepal in that category then would it be a fair decision? These are hypothetical examples, but the logical framework of punishing all for the actions of one remains the same.\n",
      "Whether for right or wrong reasons, the mayor’s response to Adipurush has elicited strong feelings from among the masses. The only problem is that it comes without any functional utility and serves merely as a cathartic feel-good response.\n",
      "And in the absence of functional utility benefitting the nation, the feeling becomes limited to outrage and cannot transform into an act of nationalism. Because in this day and age where the battlefield has shifted from physical locations to economic domains, a contribution to the nation’s socio-economic prosperity is a bigger display of nationalism than sloganeering.\n",
      "It is important to realise that true sovereignty and independence are not possible without strength and strength only comes from prosperity. A policy like prohibiting Hindi films by itself makes a negligible, if not zero, contribution to the nation’s prosperity and is the equivalent of an ostrich burying its head in the sand.\n",
      "Hindi movies, despite some of their sensationalist depictions, have actually made positive contributions to Nepal and as such it is not easy to displace them at the societal level. People in Nepal grow up watching Bollywood and consuming Indian content to the point of not needing any classes to learn the language. This serves to the advantage of thousands who interact with India for work and study purposes.\n",
      "This interaction with India is not a phenomenon that can be stopped and claiming that Nepal will outpace India’s growth if we isolate from them merely highlights economic naivete. Also important to consider is the growing trend of Bollywood movies being shot in Nepal which helps the state generate some revenue and promote Nepal as a destination to visit.\n",
      "The latter is very important as the government wishes to consider the next 10 years as the tourism decade. It has never been easier than in the 21st century to appear as a nationalist. All one needs to do is make anti-India, China, US or EU statements on mobile phones imported from either of these countries and that’s it.\n",
      "But being a nationalist and appearing as one are two different things. If it is not functional in nature then it’s not nationalism. Kulman Ghising is out there pleading and warning people that without constructing more transmission lines and infrastructure Nepal is going to have severe problems going forward.\n",
      "Isn’t the possibility of going back to power cuts which will hamper our industries and in turn further fuel economic dependency, more of a threat to our sovereignty and independence than a bad script from Bollywood? Where are our priorities?\n",
      "It is high time we redefine nationalism for the current times because if we do not, this powerful sentiment will end up being limited to envy-laden vitriol that will only hurt Nepali’s national interests.\n"
     ]
    }
   ],
   "source": [
    "for sentence in sentences:\n",
    "    print(sentence)"
   ]
  },
  {
   "cell_type": "markdown",
   "metadata": {},
   "source": [
    "## use of spacy"
   ]
  },
  {
   "cell_type": "code",
   "execution_count": 29,
   "metadata": {},
   "outputs": [],
   "source": [
    "import spacy\n",
    "from spacy import displacy\n",
    "import networkx as nx\n",
    "\n",
    "from pyvis.network import Network"
   ]
  },
  {
   "cell_type": "code",
   "execution_count": 20,
   "metadata": {},
   "outputs": [],
   "source": [
    "NER = spacy.load(\"en_core_web_sm\")"
   ]
  },
  {
   "cell_type": "code",
   "execution_count": 34,
   "metadata": {
    "scrolled": false
   },
   "outputs": [
    {
     "name": "stdout",
     "output_type": "stream",
     "text": [
      "Warning: When  cdn_resources is 'local' jupyter notebook has issues displaying graphics on chrome/safari. Use cdn_resources='in_line' or cdn_resources='remote' if you have issues viewing graphics in a notebook.\n",
      "show.html\n"
     ]
    },
    {
     "data": {
      "text/html": [
       "\n",
       "        <iframe\n",
       "            width=\"1000px\"\n",
       "            height=\"700px\"\n",
       "            src=\"show.html\"\n",
       "            frameborder=\"0\"\n",
       "            allowfullscreen\n",
       "        ></iframe>\n",
       "        "
      ],
      "text/plain": [
       "<IPython.lib.display.IFrame at 0x1ae3ce6b700>"
      ]
     },
     "execution_count": 34,
     "metadata": {},
     "output_type": "execute_result"
    }
   ],
   "source": [
    "entities = []\n",
    "for sentence in sentences:\n",
    "    doc = NER(sentence)\n",
    "    for ent in doc.ents:\n",
    "        entities.append((ent.text, ent.label_))\n",
    "        \n",
    "G = nx.Graph()\n",
    "\n",
    "for entity, label in entities:\n",
    "    G.add_node(entity, label=label)\n",
    "    \n",
    "for i in range(len(entities)):\n",
    "    for j in range(i+1, len(entities)):\n",
    "        entity1, label1 = entities[i]\n",
    "        entity2, label2 = entities[j]\n",
    "        if label1 == label2:\n",
    "            G.add_edge(entity1, entity2)\n",
    "            \n",
    "#visualize the network graph\n",
    "\n",
    "net = Network(notebook=True, width=\"1000px\", height=\"700px\", bgcolor=\"#222222\", font_color=\"white\")\n",
    "\n",
    "#add nodes and edges to the network\n",
    "for node in G.nodes:\n",
    "    net.add_node(node, label=node, title=node)\n",
    "    \n",
    "for edge in G.edges:\n",
    "    net.add_edge(edge[0], edge[1])\n",
    "    \n",
    "#display the network graph\n",
    "net.show(\"show.html\")"
   ]
  },
  {
   "cell_type": "code",
   "execution_count": 35,
   "metadata": {},
   "outputs": [],
   "source": []
  },
  {
   "cell_type": "code",
   "execution_count": null,
   "metadata": {},
   "outputs": [],
   "source": []
  },
  {
   "cell_type": "code",
   "execution_count": null,
   "metadata": {},
   "outputs": [],
   "source": []
  },
  {
   "cell_type": "code",
   "execution_count": null,
   "metadata": {},
   "outputs": [],
   "source": []
  }
 ],
 "metadata": {
  "kernelspec": {
   "display_name": "Python 3",
   "language": "python",
   "name": "python3"
  },
  "language_info": {
   "codemirror_mode": {
    "name": "ipython",
    "version": 3
   },
   "file_extension": ".py",
   "mimetype": "text/x-python",
   "name": "python",
   "nbconvert_exporter": "python",
   "pygments_lexer": "ipython3",
   "version": "3.8.5"
  }
 },
 "nbformat": 4,
 "nbformat_minor": 4
}
